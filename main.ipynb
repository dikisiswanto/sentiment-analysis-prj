{
 "cells": [
  {
   "cell_type": "code",
   "execution_count": null,
   "metadata": {},
   "outputs": [],
   "source": [
    "%pip install -r requirements.txt"
   ]
  },
  {
   "cell_type": "code",
   "execution_count": null,
   "metadata": {},
   "outputs": [],
   "source": [
    "import json\n",
    "import csv\n",
    "\n",
    "# Read the JSON file with the appropriate encoding\n",
    "with open('./data/prj-fix.json', encoding='utf-8') as file:\n",
    "    data = json.load(file)\n",
    "\n",
    "# Extract the values from the JSON object\n",
    "output = {'data': list(data.values())}\n",
    "\n",
    "# Define the field names for the CSV\n",
    "fieldnames = output['data'][0].keys()\n",
    "\n",
    "# Write the output to a CSV file\n",
    "with open('./data/data.csv', 'w', newline='', encoding='utf-8') as output_file:\n",
    "    writer = csv.DictWriter(output_file, fieldnames=fieldnames)\n",
    "    writer.writeheader()\n",
    "    writer.writerows(output['data'])\n",
    "\n",
    "print(\"Output saved to data.csv\")"
   ]
  },
  {
   "cell_type": "code",
   "execution_count": null,
   "metadata": {},
   "outputs": [],
   "source": [
    "csv_file_path = './data/data.csv'\n",
    "\n",
    "# Define the name of the new column\n",
    "new_column_name = 'tweet_link'\n",
    "\n",
    "# Read the CSV file row by row and add new column data\n",
    "with open(csv_file_path, 'r',  encoding='utf-8') as file:\n",
    "    reader = csv.reader(file)\n",
    "    rows = list(reader)\n",
    "\n",
    "    # Add the new column header to the first row\n",
    "    rows[0].append(new_column_name)\n",
    "\n",
    "    # Iterate over each row (excluding the header)\n",
    "    for row in rows[1:]:\n",
    "        # Concatenate values from other columns\n",
    "        concatenated_data = 'https://twitter.com/'+row[4]+'/status/'+row[6]\n",
    "\n",
    "        # Add the concatenated data to the new column\n",
    "        row.append(concatenated_data)\n",
    "\n",
    "# Write the modified data back to the CSV file\n",
    "with open(csv_file_path, 'w', newline='',  encoding='utf-8') as file:\n",
    "    writer = csv.writer(file)\n",
    "    writer.writerows(rows)\n",
    "\n",
    "print(\"New column added successfully!\")"
   ]
  },
  {
   "cell_type": "code",
   "execution_count": null,
   "metadata": {},
   "outputs": [],
   "source": [
    "import pandas as pd\n",
    "\n",
    "# Define the path to the CSV file\n",
    "csv_file_path = './data/data.csv'\n",
    "\n",
    "# Read the CSV file into a pandas DataFrame\n",
    "df = pd.read_csv(csv_file_path)\n",
    "\n",
    "# Define the columns and their priority for sorting\n",
    "column1 = 'like'\n",
    "column2 = 'retweet'\n",
    "column3 = 'reply'\n",
    "\n",
    "# Sort the DataFrame by the columns with the specified priority\n",
    "df_sorted = df.sort_values(by=[column1, column2, column3], ascending=[False, False, False])\n",
    "\n",
    "# Print the sorted DataFrame\n",
    "df_sorted"
   ]
  },
  {
   "cell_type": "code",
   "execution_count": null,
   "metadata": {},
   "outputs": [],
   "source": [
    "# drop rows that not containing @username\n",
    "df.drop(df.index[~df['username'].str.contains('@')], inplace=True)\n",
    "# drop rows from username @AcaraFestival since the tweet text looks similar (like a spam)\n",
    "df.drop(df.index[df['username'].str.match('@AcaraFestival')], inplace=True)\n",
    "\n",
    "# select rows that not contained undefined value on like, reply, retweet columns\n",
    "new_df = df[df.like != 'undefined']\n",
    "new_df = df[df.reply != 'undefined']\n",
    "new_df = df[df.retweet != 'undefined']\n",
    "\n",
    "# drop tweet_links column\n",
    "new_df = new_df.drop(columns=['tweet_link'], axis=1)\n",
    "\n",
    "# save to csv\n",
    "new_df.to_csv('./data/cleaned_data.csv', index=False)\n",
    "\n",
    "print(\"New cleaned_data.csv added successfully!\")"
   ]
  }
 ],
 "metadata": {
  "kernelspec": {
   "display_name": "Python 3.9.7 64-bit ('anaconda3')",
   "language": "python",
   "name": "python3"
  },
  "language_info": {
   "codemirror_mode": {
    "name": "ipython",
    "version": 3
   },
   "file_extension": ".py",
   "mimetype": "text/x-python",
   "name": "python",
   "nbconvert_exporter": "python",
   "pygments_lexer": "ipython3",
   "version": "3.9.7"
  },
  "orig_nbformat": 4,
  "vscode": {
   "interpreter": {
    "hash": "a1d74ea33a5c5deae64f000f8abac3abf5179c9416b37ad3f813cb79347b49ca"
   }
  }
 },
 "nbformat": 4,
 "nbformat_minor": 2
}
